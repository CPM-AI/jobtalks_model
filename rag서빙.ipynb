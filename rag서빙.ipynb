{
 "cells": [
  {
   "cell_type": "code",
   "execution_count": 1,
   "metadata": {},
   "outputs": [],
   "source": [
    "from langchain_community.llms import VLLM\n",
    "from langchain.embeddings import HuggingFaceEmbeddings\n",
    "from langchain.vectorstores import FAISS\n",
    "from langchain.chains import RetrievalQA\n",
    "\n",
    "from selenium.webdriver.common.by import By\n",
    "from selenium.webdriver.support.ui import WebDriverWait\n",
    "from selenium.webdriver.support import expected_conditions as EC\n",
    "from selenium.webdriver.chrome.options import Options\n",
    "from selenium import webdriver\n",
    "\n",
    "from bs4 import BeautifulSoup\n",
    "import pandas as pd"
   ]
  },
  {
   "cell_type": "code",
   "execution_count": 2,
   "metadata": {},
   "outputs": [
    {
     "name": "stderr",
     "output_type": "stream",
     "text": [
      "/home/ubuntu/.local/lib/python3.10/site-packages/huggingface_hub/file_download.py:1132: FutureWarning: `resume_download` is deprecated and will be removed in version 1.0.0. Downloads always resume when possible. If you want to force a new download, use `force_download=True`.\n",
      "  warnings.warn(\n",
      "2024-06-13 09:09:02,712\tINFO worker.py:1749 -- Started a local Ray instance.\n"
     ]
    },
    {
     "name": "stdout",
     "output_type": "stream",
     "text": [
      "INFO 06-13 09:09:03 llm_engine.py:161] Initializing an LLM engine (v0.4.3) with config: model='cpm-ai/Ocelot-Ko-self-instruction-10.8B-v1.0', speculative_config=None, tokenizer='cpm-ai/Ocelot-Ko-self-instruction-10.8B-v1.0', skip_tokenizer_init=False, tokenizer_mode=auto, revision=None, rope_scaling=None, tokenizer_revision=None, trust_remote_code=False, dtype=torch.bfloat16, max_seq_len=4096, download_dir=None, load_format=LoadFormat.AUTO, tensor_parallel_size=8, disable_custom_all_reduce=False, quantization=None, enforce_eager=False, kv_cache_dtype=auto, quantization_param_path=None, device_config=cuda, decoding_config=DecodingConfig(guided_decoding_backend='outlines'), seed=0, served_model_name=cpm-ai/Ocelot-Ko-self-instruction-10.8B-v1.0)\n",
      "INFO 06-13 09:09:29 utils.py:618] Found nccl from library libnccl.so.2\n",
      "INFO 06-13 09:09:29 pynccl.py:65] vLLM is using nccl==2.20.5\n",
      "\u001b[36m(RayWorkerWrapper pid=2718706)\u001b[0m INFO 06-13 09:09:29 utils.py:618] Found nccl from library libnccl.so.2\n",
      "\u001b[36m(RayWorkerWrapper pid=2718706)\u001b[0m INFO 06-13 09:09:29 pynccl.py:65] vLLM is using nccl==2.20.5\n",
      "INFO 06-13 09:09:32 custom_all_reduce_utils.py:179] reading GPU P2P access cache from /home/ubuntu/.config/vllm/gpu_p2p_access_cache_for_0,1,2,3,4,5,6,7.json\n",
      "\u001b[36m(RayWorkerWrapper pid=2718706)\u001b[0m INFO 06-13 09:09:32 custom_all_reduce_utils.py:179] reading GPU P2P access cache from /home/ubuntu/.config/vllm/gpu_p2p_access_cache_for_0,1,2,3,4,5,6,7.json\n",
      "INFO 06-13 09:09:33 weight_utils.py:207] Using model weights format ['*.safetensors']\n",
      "\u001b[36m(RayWorkerWrapper pid=2718706)\u001b[0m INFO 06-13 09:09:33 weight_utils.py:207] Using model weights format ['*.safetensors']\n",
      "INFO 06-13 09:09:35 model_runner.py:146] Loading model weights took 2.5173 GB\n",
      "\u001b[36m(RayWorkerWrapper pid=2719300)\u001b[0m INFO 06-13 09:09:36 model_runner.py:146] Loading model weights took 2.5173 GB\n",
      "\u001b[36m(RayWorkerWrapper pid=2719396)\u001b[0m INFO 06-13 09:09:29 utils.py:618] Found nccl from library libnccl.so.2\u001b[32m [repeated 6x across cluster] (Ray deduplicates logs by default. Set RAY_DEDUP_LOGS=0 to disable log deduplication, or see https://docs.ray.io/en/master/ray-observability/user-guides/configure-logging.html#log-deduplication for more options.)\u001b[0m\n",
      "\u001b[36m(RayWorkerWrapper pid=2719396)\u001b[0m INFO 06-13 09:09:29 pynccl.py:65] vLLM is using nccl==2.20.5\u001b[32m [repeated 6x across cluster]\u001b[0m\n",
      "\u001b[36m(RayWorkerWrapper pid=2719396)\u001b[0m INFO 06-13 09:09:32 custom_all_reduce_utils.py:179] reading GPU P2P access cache from /home/ubuntu/.config/vllm/gpu_p2p_access_cache_for_0,1,2,3,4,5,6,7.json\u001b[32m [repeated 6x across cluster]\u001b[0m\n",
      "INFO 06-13 09:09:43 distributed_gpu_executor.py:56] # GPU blocks: 3576, # CPU blocks: 10922\n",
      "INFO 06-13 09:09:47 model_runner.py:854] Capturing the model for CUDA graphs. This may lead to unexpected consequences if the model is not static. To run the model in eager mode, set 'enforce_eager=True' or use '--enforce-eager' in the CLI.\n",
      "INFO 06-13 09:09:47 model_runner.py:858] CUDA graphs can take additional 1~3 GiB memory per GPU. If you are running out of memory, consider decreasing `gpu_memory_utilization` or enforcing eager mode. You can also reduce the `max_num_seqs` as needed to decrease memory usage.\n",
      "\u001b[36m(RayWorkerWrapper pid=2718706)\u001b[0m INFO 06-13 09:09:47 model_runner.py:854] Capturing the model for CUDA graphs. This may lead to unexpected consequences if the model is not static. To run the model in eager mode, set 'enforce_eager=True' or use '--enforce-eager' in the CLI.\n",
      "\u001b[36m(RayWorkerWrapper pid=2718706)\u001b[0m INFO 06-13 09:09:47 model_runner.py:858] CUDA graphs can take additional 1~3 GiB memory per GPU. If you are running out of memory, consider decreasing `gpu_memory_utilization` or enforcing eager mode. You can also reduce the `max_num_seqs` as needed to decrease memory usage.\n",
      "\u001b[36m(RayWorkerWrapper pid=2719396)\u001b[0m INFO 06-13 09:09:33 weight_utils.py:207] Using model weights format ['*.safetensors']\u001b[32m [repeated 6x across cluster]\u001b[0m\n",
      "\u001b[36m(RayWorkerWrapper pid=2718706)\u001b[0m INFO 06-13 09:09:37 model_runner.py:146] Loading model weights took 2.5173 GB\u001b[32m [repeated 6x across cluster]\u001b[0m\n",
      "INFO 06-13 09:09:54 custom_all_reduce.py:260] Registering 3395 cuda graph addresses\n",
      "\u001b[36m(RayWorkerWrapper pid=2718706)\u001b[0m INFO 06-13 09:09:54 custom_all_reduce.py:260] Registering 3395 cuda graph addressesINFO 06-13 09:09:54 model_runner.py:924] Graph capturing finished in 8 secs.\n",
      "\n",
      "\u001b[36m(RayWorkerWrapper pid=2719396)\u001b[0m INFO 06-13 09:09:47 model_runner.py:854] Capturing the model for CUDA graphs. This may lead to unexpected consequences if the model is not static. To run the model in eager mode, set 'enforce_eager=True' or use '--enforce-eager' in the CLI.\u001b[32m [repeated 6x across cluster]\u001b[0m\n",
      "\u001b[36m(RayWorkerWrapper pid=2719396)\u001b[0m INFO 06-13 09:09:47 model_runner.py:858] CUDA graphs can take additional 1~3 GiB memory per GPU. If you are running out of memory, consider decreasing `gpu_memory_utilization` or enforcing eager mode. You can also reduce the `max_num_seqs` as needed to decrease memory usage.\u001b[32m [repeated 6x across cluster]\u001b[0m\n",
      "\u001b[36m(RayWorkerWrapper pid=2718706)\u001b[0m INFO 06-13 09:09:54 model_runner.py:924] Graph capturing finished in 8 secs.\n"
     ]
    }
   ],
   "source": [
    "llm = VLLM(\n",
    "    model=\"cpm-ai/Ocelot-Ko-self-instruction-10.8B-v1.0\",\n",
    "    tensor_parallel_size=8,\n",
    "    temperature=0,\n",
    "    top_k=50,\n",
    "    top_p=0.95,\n",
    "    max_model_len=1024,\n",
    "    vllm_kwargs={'gpu_memory_utilization': 0.1}\n",
    ")\n"
   ]
  },
  {
   "cell_type": "code",
   "execution_count": 3,
   "metadata": {},
   "outputs": [
    {
     "name": "stderr",
     "output_type": "stream",
     "text": [
      "/home/ubuntu/.local/lib/python3.10/site-packages/huggingface_hub/file_download.py:1132: FutureWarning: `resume_download` is deprecated and will be removed in version 1.0.0. Downloads always resume when possible. If you want to force a new download, use `force_download=True`.\n",
      "  warnings.warn(\n"
     ]
    }
   ],
   "source": [
    "embeddings = HuggingFaceEmbeddings(model_name=\"BAAI/bge-m3\", model_kwargs={\"device\": \"cuda\"})"
   ]
  },
  {
   "cell_type": "code",
   "execution_count": 1,
   "metadata": {},
   "outputs": [],
   "source": [
    "def generate_talent_description(company_name, retriever, llm):\n",
    "    # 질의 생성\n",
    "    query = f\"\"\" \n",
    "    \"회사의 모든 인재상을 입력하세요.\"\n",
    "    \"인재상 설명 이외의 다른 단어는 출력하지 마세요.\"\n",
    "    \"질문에 최선을 다해 답변하세요. \"\n",
    "    \"검색 가능한 모든 도구를 자유롭게 사용하세요 \"\n",
    "    \"필요한 경우에만 관련 정보 제공을 하세요\"\n",
    "    \"답을 모르면 모른다고 말하세요. 답을 지어내려고 하지 마세요.\"\n",
    "    \"반드시 한국어로 답변하세요\"\n",
    "    \"다음과 같은 양식으로 답변하시오\"\n",
    "    \"[인재상]\"\n",
    "    \"1.\"\n",
    "    \"2.\"\n",
    "    \"n.\"\n",
    "    \"\"\"\n",
    "    # 답변 생성\n",
    "    qa_chain = RetrievalQA.from_chain_type(\n",
    "        llm=llm,\n",
    "        chain_type=\"stuff\",\n",
    "        retriever=retriever,\n",
    "        return_source_documents=True\n",
    "    )\n",
    "\n",
    "    result = qa_chain({\"query\": query})\n",
    "    talents = result[\"result\"]\n",
    "\n",
    "    return talents"
   ]
  },
  {
   "cell_type": "code",
   "execution_count": 2,
   "metadata": {},
   "outputs": [],
   "source": [
    "# 검색 관련 함수\n",
    "def extract_company_info(company_name):\n",
    "    # 크롬 옵션 설정\n",
    "    chrome_options = Options()\n",
    "    chrome_options.add_argument(\"--headless\")\n",
    "    chrome_options.add_argument(\"--no-sandbox\")\n",
    "    chrome_options.add_argument(\"--disable-dev-shm-usage\")\n",
    "\n",
    "    # WebDriver 설정\n",
    "    driver = webdriver.Chrome(options=chrome_options)\n",
    "\n",
    "    try:\n",
    "        # 변수 설정\n",
    "        base_url = \"https://www.jobkorea.co.kr/starter/companyreport\"\n",
    "\n",
    "        # URL 구성 및 접속\n",
    "        url = f\"{base_url}?schTxt={company_name}\"\n",
    "        driver.get(url)\n",
    "\n",
    "        # 원하는 요소가 로드될 때까지 기다리고 요소 찾기\n",
    "        element = WebDriverWait(driver, 3).until(\n",
    "            EC.presence_of_element_located((By.XPATH, f'//dt/a/strong[contains(text(), \"기업심층분석 1. {company_name}, 채용분석 및 기업정보\")]'))\n",
    "        )\n",
    "    \n",
    "        href = element.find_element(By.XPATH, '..').get_attribute('href')\n",
    "        print(f\"Found detailed analysis link: {href}\")\n",
    "\n",
    "        # 링크로 이동\n",
    "        driver.get(href)\n",
    "\n",
    "        # 페이지 소스 가져오기\n",
    "        page_source = driver.page_source\n",
    "\n",
    "        # BeautifulSoup으로 페이지 소스 파싱\n",
    "        soup = BeautifulSoup(page_source, 'html.parser')\n",
    "\n",
    "        # 'viewWrap' 클래스를 가진 모든 요소 찾기\n",
    "        view_wrap_elements = soup.find_all(class_=\"viewWrap\")\n",
    "\n",
    "        # 각 요소에서 텍스트 추출\n",
    "        extracted_text = \"\"\n",
    "        for element in view_wrap_elements:\n",
    "            text = element.get_text(strip=True)\n",
    "            extracted_text += text + \"\\n\"\n",
    "\n",
    "        return extracted_text, href\n",
    "\n",
    "    except Exception as e:\n",
    "        return 'fail'\n",
    "\n",
    "    finally:\n",
    "        driver.quit()"
   ]
  },
  {
   "cell_type": "code",
   "execution_count": 3,
   "metadata": {},
   "outputs": [],
   "source": [
    "from fastapi import FastAPI, Request\n",
    "from fastapi.responses import StreamingResponse\n",
    "from fastapi.middleware.cors import CORSMiddleware\n",
    "from pydantic import BaseModel\n",
    "import uvicorn\n",
    "import nest_asyncio"
   ]
  },
  {
   "cell_type": "code",
   "execution_count": 4,
   "metadata": {},
   "outputs": [],
   "source": [
    "csv_file_path = \"./company_talents.csv\""
   ]
  },
  {
   "cell_type": "code",
   "execution_count": 5,
   "metadata": {},
   "outputs": [],
   "source": [
    "app = FastAPI()\n",
    "\n",
    "app.add_middleware(\n",
    "    CORSMiddleware,\n",
    "    allow_origins=['*'],\n",
    "    allow_credentials=True,\n",
    "    allow_methods=['*'],\n",
    "    allow_headers=['*'],\n",
    ")\n",
    "\n",
    "\n",
    "\n",
    "class InputText(BaseModel):\n",
    "    item: str\n",
    "\n",
    "\n",
    "\n",
    "@app.post('/get_talent')\n",
    "async def edit_orion(input_text: InputText):\n",
    "    company_name = input_text.item\n",
    "    print('회사명 확인', company_name)\n",
    "    df = pd.read_csv(csv_file_path)\n",
    "    company_talent = ''\n",
    "    if company_name in df[\"company_name\"].values:\n",
    "        talents = df[df[\"company_name\"] == company_name][\"talents\"].values[0]\n",
    "        company_talent = talents\n",
    "        print(\"Talents:\", talents)\n",
    "        return {\"talent\": company_talent, \"iscsv\": 'true'}\n",
    "    else:\n",
    "        company_info = extract_company_info(company_name)\n",
    "        if company_info == 'fail':\n",
    "            return '회사를 찾을 수 없습니다'\n",
    "        else :\n",
    "            vector_store = FAISS.from_texts(texts=[company_info[0]], embedding=embeddings)\n",
    "            retriever = vector_store.as_retriever(search_kwargs={\"k\": 1})\n",
    "            talents = generate_talent_description(company_name, retriever, llm)\n",
    "            company_talent = talents\n",
    "            company_url = company_info[1]\n",
    "\n",
    "\n",
    "            new_data = {\"company_name\": company_name, \"talents\": talents}\n",
    "            df = pd.concat([df, pd.DataFrame([new_data])], ignore_index=True)\n",
    "            \n",
    "            # 결과를 CSV 파일에 저장\n",
    "            df.to_csv(csv_file_path, index=False)\n",
    "            print(\"인재상이 생성되어 CSV 파일에 추가되었습니다.\")            \n",
    "        \n",
    "    return {\"talent\": company_talent, \"url\": company_url}\n",
    "\n",
    "\n"
   ]
  },
  {
   "cell_type": "code",
   "execution_count": 6,
   "metadata": {},
   "outputs": [
    {
     "name": "stderr",
     "output_type": "stream",
     "text": [
      "INFO:     Started server process [2826948]\n",
      "INFO:     Waiting for application startup.\n",
      "INFO:     Application startup complete.\n",
      "INFO:     Uvicorn running on https://0.0.0.0:8002 (Press CTRL+C to quit)\n"
     ]
    },
    {
     "name": "stdout",
     "output_type": "stream",
     "text": [
      "INFO:     165.154.32.235:47798 - \"GET / HTTP/1.1\" 404 Not Found\n",
      "INFO:     165.154.32.235:47810 - \"GET /favicon.ico HTTP/1.1\" 404 Not Found\n",
      "INFO:     165.154.32.235:47814 - \"GET /robots.txt HTTP/1.1\" 404 Not Found\n",
      "INFO:     165.154.32.235:47820 - \"GET /sitemap.xml HTTP/1.1\" 404 Not Found\n"
     ]
    },
    {
     "name": "stderr",
     "output_type": "stream",
     "text": [
      "INFO:     Shutting down\n"
     ]
    },
    {
     "ename": "RuntimeError",
     "evalue": "Event loop stopped before Future completed.",
     "output_type": "error",
     "traceback": [
      "\u001b[0;31m---------------------------------------------------------------------------\u001b[0m",
      "\u001b[0;31mRuntimeError\u001b[0m                              Traceback (most recent call last)",
      "Cell \u001b[0;32mIn[6], line 4\u001b[0m\n\u001b[1;32m      1\u001b[0m nest_asyncio\u001b[38;5;241m.\u001b[39mapply()\n\u001b[1;32m      3\u001b[0m \u001b[38;5;28;01mif\u001b[39;00m \u001b[38;5;18m__name__\u001b[39m \u001b[38;5;241m==\u001b[39m \u001b[38;5;124m\"\u001b[39m\u001b[38;5;124m__main__\u001b[39m\u001b[38;5;124m\"\u001b[39m:\n\u001b[0;32m----> 4\u001b[0m     \u001b[43muvicorn\u001b[49m\u001b[38;5;241;43m.\u001b[39;49m\u001b[43mrun\u001b[49m\u001b[43m(\u001b[49m\u001b[43mapp\u001b[49m\u001b[43m,\u001b[49m\u001b[43m \u001b[49m\u001b[43mhost\u001b[49m\u001b[38;5;241;43m=\u001b[39;49m\u001b[38;5;124;43m\"\u001b[39;49m\u001b[38;5;124;43m0.0.0.0\u001b[39;49m\u001b[38;5;124;43m\"\u001b[39;49m\u001b[43m,\u001b[49m\u001b[43m \u001b[49m\u001b[43mport\u001b[49m\u001b[38;5;241;43m=\u001b[39;49m\u001b[38;5;241;43m8002\u001b[39;49m\u001b[43m,\u001b[49m\u001b[43m \u001b[49m\u001b[43mssl_keyfile\u001b[49m\u001b[38;5;241;43m=\u001b[39;49m\u001b[38;5;124;43m\"\u001b[39;49m\u001b[38;5;124;43m/etc/letsencrypt/live/model.cpm-ai.site/privkey.pem\u001b[39;49m\u001b[38;5;124;43m\"\u001b[39;49m\u001b[43m,\u001b[49m\u001b[43m \u001b[49m\u001b[43mssl_certfile\u001b[49m\u001b[38;5;241;43m=\u001b[39;49m\u001b[38;5;124;43m\"\u001b[39;49m\u001b[38;5;124;43m/etc/letsencrypt/live/model.cpm-ai.site/fullchain.pem\u001b[39;49m\u001b[38;5;124;43m\"\u001b[39;49m\u001b[43m)\u001b[49m\n",
      "File \u001b[0;32m~/.local/lib/python3.10/site-packages/uvicorn/main.py:577\u001b[0m, in \u001b[0;36mrun\u001b[0;34m(app, host, port, uds, fd, loop, http, ws, ws_max_size, ws_max_queue, ws_ping_interval, ws_ping_timeout, ws_per_message_deflate, lifespan, interface, reload, reload_dirs, reload_includes, reload_excludes, reload_delay, workers, env_file, log_config, log_level, access_log, proxy_headers, server_header, date_header, forwarded_allow_ips, root_path, limit_concurrency, backlog, limit_max_requests, timeout_keep_alive, timeout_graceful_shutdown, ssl_keyfile, ssl_certfile, ssl_keyfile_password, ssl_version, ssl_cert_reqs, ssl_ca_certs, ssl_ciphers, headers, use_colors, app_dir, factory, h11_max_incomplete_event_size)\u001b[0m\n\u001b[1;32m    575\u001b[0m         Multiprocess(config, target\u001b[38;5;241m=\u001b[39mserver\u001b[38;5;241m.\u001b[39mrun, sockets\u001b[38;5;241m=\u001b[39m[sock])\u001b[38;5;241m.\u001b[39mrun()\n\u001b[1;32m    576\u001b[0m     \u001b[38;5;28;01melse\u001b[39;00m:\n\u001b[0;32m--> 577\u001b[0m         \u001b[43mserver\u001b[49m\u001b[38;5;241;43m.\u001b[39;49m\u001b[43mrun\u001b[49m\u001b[43m(\u001b[49m\u001b[43m)\u001b[49m\n\u001b[1;32m    578\u001b[0m \u001b[38;5;28;01mfinally\u001b[39;00m:\n\u001b[1;32m    579\u001b[0m     \u001b[38;5;28;01mif\u001b[39;00m config\u001b[38;5;241m.\u001b[39muds \u001b[38;5;129;01mand\u001b[39;00m os\u001b[38;5;241m.\u001b[39mpath\u001b[38;5;241m.\u001b[39mexists(config\u001b[38;5;241m.\u001b[39muds):\n",
      "File \u001b[0;32m~/.local/lib/python3.10/site-packages/uvicorn/server.py:65\u001b[0m, in \u001b[0;36mServer.run\u001b[0;34m(self, sockets)\u001b[0m\n\u001b[1;32m     63\u001b[0m \u001b[38;5;28;01mdef\u001b[39;00m \u001b[38;5;21mrun\u001b[39m(\u001b[38;5;28mself\u001b[39m, sockets: \u001b[38;5;28mlist\u001b[39m[socket\u001b[38;5;241m.\u001b[39msocket] \u001b[38;5;241m|\u001b[39m \u001b[38;5;28;01mNone\u001b[39;00m \u001b[38;5;241m=\u001b[39m \u001b[38;5;28;01mNone\u001b[39;00m) \u001b[38;5;241m-\u001b[39m\u001b[38;5;241m>\u001b[39m \u001b[38;5;28;01mNone\u001b[39;00m:\n\u001b[1;32m     64\u001b[0m     \u001b[38;5;28mself\u001b[39m\u001b[38;5;241m.\u001b[39mconfig\u001b[38;5;241m.\u001b[39msetup_event_loop()\n\u001b[0;32m---> 65\u001b[0m     \u001b[38;5;28;01mreturn\u001b[39;00m \u001b[43masyncio\u001b[49m\u001b[38;5;241;43m.\u001b[39;49m\u001b[43mrun\u001b[49m\u001b[43m(\u001b[49m\u001b[38;5;28;43mself\u001b[39;49m\u001b[38;5;241;43m.\u001b[39;49m\u001b[43mserve\u001b[49m\u001b[43m(\u001b[49m\u001b[43msockets\u001b[49m\u001b[38;5;241;43m=\u001b[39;49m\u001b[43msockets\u001b[49m\u001b[43m)\u001b[49m\u001b[43m)\u001b[49m\n",
      "File \u001b[0;32m~/.local/lib/python3.10/site-packages/nest_asyncio.py:30\u001b[0m, in \u001b[0;36m_patch_asyncio.<locals>.run\u001b[0;34m(main, debug)\u001b[0m\n\u001b[1;32m     28\u001b[0m task \u001b[38;5;241m=\u001b[39m asyncio\u001b[38;5;241m.\u001b[39mensure_future(main)\n\u001b[1;32m     29\u001b[0m \u001b[38;5;28;01mtry\u001b[39;00m:\n\u001b[0;32m---> 30\u001b[0m     \u001b[38;5;28;01mreturn\u001b[39;00m \u001b[43mloop\u001b[49m\u001b[38;5;241;43m.\u001b[39;49m\u001b[43mrun_until_complete\u001b[49m\u001b[43m(\u001b[49m\u001b[43mtask\u001b[49m\u001b[43m)\u001b[49m\n\u001b[1;32m     31\u001b[0m \u001b[38;5;28;01mfinally\u001b[39;00m:\n\u001b[1;32m     32\u001b[0m     \u001b[38;5;28;01mif\u001b[39;00m \u001b[38;5;129;01mnot\u001b[39;00m task\u001b[38;5;241m.\u001b[39mdone():\n",
      "File \u001b[0;32m~/.local/lib/python3.10/site-packages/nest_asyncio.py:96\u001b[0m, in \u001b[0;36m_patch_loop.<locals>.run_until_complete\u001b[0;34m(self, future)\u001b[0m\n\u001b[1;32m     94\u001b[0m         \u001b[38;5;28;01mbreak\u001b[39;00m\n\u001b[1;32m     95\u001b[0m \u001b[38;5;28;01mif\u001b[39;00m \u001b[38;5;129;01mnot\u001b[39;00m f\u001b[38;5;241m.\u001b[39mdone():\n\u001b[0;32m---> 96\u001b[0m     \u001b[38;5;28;01mraise\u001b[39;00m \u001b[38;5;167;01mRuntimeError\u001b[39;00m(\n\u001b[1;32m     97\u001b[0m         \u001b[38;5;124m'\u001b[39m\u001b[38;5;124mEvent loop stopped before Future completed.\u001b[39m\u001b[38;5;124m'\u001b[39m)\n\u001b[1;32m     98\u001b[0m \u001b[38;5;28;01mreturn\u001b[39;00m f\u001b[38;5;241m.\u001b[39mresult()\n",
      "\u001b[0;31mRuntimeError\u001b[0m: Event loop stopped before Future completed."
     ]
    }
   ],
   "source": [
    "nest_asyncio.apply()\n",
    "\n",
    "if __name__ == \"__main__\":\n",
    "    uvicorn.run(app, host=\"0.0.0.0\", port=8002, ssl_keyfile=\"/etc/letsencrypt/live/model.cpm-ai.site/privkey.pem\", ssl_certfile=\"/etc/letsencrypt/live/model.cpm-ai.site/fullchain.pem\")"
   ]
  },
  {
   "cell_type": "code",
   "execution_count": null,
   "metadata": {},
   "outputs": [],
   "source": []
  },
  {
   "cell_type": "code",
   "execution_count": null,
   "metadata": {},
   "outputs": [],
   "source": []
  },
  {
   "cell_type": "code",
   "execution_count": null,
   "metadata": {},
   "outputs": [],
   "source": []
  },
  {
   "cell_type": "code",
   "execution_count": null,
   "metadata": {},
   "outputs": [],
   "source": []
  },
  {
   "cell_type": "code",
   "execution_count": 52,
   "metadata": {},
   "outputs": [],
   "source": [
    "company_name = '삼성전자'"
   ]
  },
  {
   "cell_type": "code",
   "execution_count": 53,
   "metadata": {},
   "outputs": [
    {
     "name": "stdout",
     "output_type": "stream",
     "text": [
      "Found detailed analysis link: https://www.jobkorea.co.kr/starter/companyreport/view?Inside_No=10931&schCtgr=101012&schGrpCtgr=101&schTxt=%EC%82%BC%EC%84%B1%EC%A0%84%EC%9E%90&Page=1\n",
      "삼성전자는 부문별로 나눠 신입 사원 및 경력 사원을 채용하고 있다. 신입 사원 모집은 상반기에는 3월, 하반기에는 9월에 지원서 접수가 시작된다. 특정 분야 인력이 필요할 경우, 삼성전자 홈페이지 및 주요 취업 사이트를 통해 채용 공고를 게재하고 있다. 또한 수시 모집도 진행하고 있으니 경력 지원서는 언제든지 등록하면 된다. 모든 채용은 삼성 채용 홈페이지를 통해 접수가 가능하다. 3급 신입 공채 지원은 졸업 예정자 또는 기 졸업자를 대상으로 한다. 병역필 또는 면제자로 해외여행에 결격 사유가 없어야 하고, 어학 자격(OPIc 또는 TOEIC Speaking)을 보유하고 있어야 한다.삼성전자, 기업 개요삼성전자는 본사를 거점으로 한국과 DX 부문 산하 해외 9개 지역총괄, DS 부문 산하 해외 5개 지역총괄의 생산/판매법인 및 SDC, Harman 산하 종속기업 등 232개의 종속기업으로 구성된 글로벌 전자 기업이다. 2021년 12월 조직 개편을 통해 CE 부문과 IM 부문을 DX 부문으로 통합했으며, 내부 조직 체계에 맞춰 SDC를 DS 부문과 별도로 구분했다. 제품의 특성에 따라 DX(Device eXperience), DS(Device Solutions) 2개의 부문과 패널 사업을 영위하는 SDC(삼성디스플레이㈜ 및 그 종속기업), 전장부품 사업 등을 영위하는 Harman(Harman International Industries, Inc. 및 그 종속기업)으로 나눠 경영을 하고 있다.#기업 정보_더보기삼성전자, 인재상열정(Passion)끊임없는 열정으로 미래에 도전하는 인재창의혁신(Creativity)창의와 혁신으로 세상을 변화시키는 인재인간미/도덕성(Integrity)정직과 바른 행동으로 역할과 책임을 다하는 인재1. 서류 전형 패스하기지원서에 기본 인적 사항, 학업 이수 내용, 경험/자격, 에세이 등을 작성한 후 삼성 채용 홈페이지를 통해 접수하면 된다. 직무적합성평가는 지원 자격을 검토하는 서류 평가라고 볼 수 있다. 서류 전형에서는 기본적인 자격 요건과 이력서 검토를 통해 1차적인 역량 검증을 진행한다. 직무와 관련해 필요한 역량을 얼마나 준비했는지, 관심을 가지고 성실히 준비했는지를 평가한다. 인사 담당자들이 자기소개서에서 중점적으로 보는 것은 경험과 포부다. 지원하는 직무, 전공, 사업, 회사를 선택한 자신만의 이야기, 회사와 지원자가 동반 성장할 수 있는 요소, 혹은 어떻게 성장할 것인지 등에 대해 작성한다. 자신이 지원한 직군과 전공 관련성을 잘 녹여내는 것이 중요하다. 제출한 지원서를 바탕으로 직무 관련 사항을 다면평가하고, 합격자에 한해 직무적성검사 응시가 가능하다.삼성전자가 영위하고 있는 사업 분야는 기술 혁신의 속도가 상당히 빠르므로 장기적 관점에서 어떤 기술이 시대를 관통할지에 대해 감히 예측하기는 어렵다. 그럼에도 불구하고 시장, 소비자, 기술 동향 등의 전반 사항들을 참고해서 시간이 지났을 때 나는 삼성에서 어떤 것을 하고 있을 것이며 그 안에서 어떤 성과로써 회사에 기여하고 있을 것인지에 대한 구체적 비전을 제시해야 한다.전공별로 주의할 점으로는 이공계 전공자는 공학 인증제 수료 여부에 가산점이 있고, 전공의 과목 수, 난이도, 평점 등을 종합적으로 평가한다. 특히 연구개발, 기술, S/W 직군은 전공 이수 과목의 수와 난이도, 취득 성적 등 전공 능력을 종합적으로 평가해 전공을 충실히 이수한 지원자를 우대한다. 그 외 직무와 무관한 스펙은 일체 반영되지 않는다. 연구개발, 기술, S/W 직군은 수학, 물리 등의 기초 과목을 비롯해 전공 과목을 심화 과정까지 깊이 있게 공부하면 도움이 된다. 반면 문과 전공자는 자기소개서 또는 직무와 관련된 경험과 함께 직무 역량을 주로 평가한다. 영업마케팅, 경영지원 직군은 직무와 관련된 과목을 수강하고, 다양한 활동 경험을 쌓는 것이 도움이 된다.자기소개서에는 인사 담당자들이 지원자에 대해 관심을 가지고 궁금해할 만한 내용이 들어가면 좋다. 눈에 띄는 제목을 작성하거나 삼성전자에 꾸준한 관심을 가졌던 것을 증명해 줄 수 있는 사례들이 들어간다면 좋은 자기소개서가 될 것이다. 기사처럼 가독성 있게 쓰는 것이 좋고, 각 항목의 맥락이 이어지게 작성하는 것도 추천한다. 자기소개서는 면접에서 활용되므로, 반드시 본인의 이야기를 바탕으로 작성하고, 제출하기 전에 지원서 내용을 저장해 두고 면접 전에 반드시 다시 읽어보도록 한다.#합격 자소서_더 보기2. 필기 전형 패스하기삼성 직무적성검사(GSAT)는 단편적인 지식보다는 응시자의 문제 해결 능력, 논리적 사고 능력 등과 같이 주어진 상황을 유연하게 대처하고 해결할 수 있는 종합적인 능력을 평가하는 검사다. 연구개발, 기술/설비, 영업마케팅, 경영지원 지원자를 대상으로 수리력과 추리력을 평가한다. 2022년 시험에는 수리 20문항, 추리 30문항 등 총 50문항이 출제됐다. 2020년부터 온라인으로 진행하고 있어 독립된 응시 장소와 PC, 스마트폰이 필요하다. 원활한 검사 진행을 위해서 사전 예비 소집을 진행해 지원자의 응시 환경을 점검하고 있으며, 예비 소집에 참석하지 않은 응시자는 검사 당일 응시가 제한될 수 있다.GSAT 대비를 위해 시중에 나와 있는 문제집을 반복해 풀어보는 것을 권장한다. 난이도보다 제한 시간 내 빠르고 정확하게 푸는 게 관건인 시험인 만큼, 시간을 재어가며 푸는 연습을 하는 것이 좋다. 난이도는 매 채용마다 상이하다. 문항 수가 많으므로 모든 문제를 40~50초 이내에 풀어야 하는 만큼 시간 배분에 유의해야 한다. 시간이 부족하다고 해서 오답을 찍고 넘어가는 것은 좋은 방법이 아니다. 아는 문제만 정확하게 답하도록 한다.소프트웨어(SW) 직군 지원자를 대상으로 진행하는 SW 역량 테스트는 SW 문제 해결 역량을 측정하기 위해 도입됐다. PC를 통해 주어진 문제를 직접 코딩해 해결하는 실기 방식의 테스트다. 사용 가능한 프로그램 언어는 C, C++, Java, Python이며, 총 2개 문제를 해결하는 데 주어지는 시간은 240분이다. ‘SW Expert 아카데미’를 통해서 학습 및 모의 문제 풀이를 진행할 수 있다.디자인 포트폴리오 심사는 디자인 직군 지원자의 디자인 역량을 평가하기 위한 전형이다. 직무적합성평가 결과 발표 이후 직무별로 서식을 지정해 주고 있으며, 지원자는 주어진 요구 사항에 맞춰 개인/팀 작품을 포트폴리오로 제작해 제출하면 된다.#인적성 후기_더 보기3. 면접 전형 패스하기면접은 임원 면접, 직무 역량 면접, 창의성 면접으로 3차에 걸쳐 진행한다. 면접 방식은 3차 모두 면접자 1인과 면접위원 여러 명으로 구성된 개인별 면접 방식으로 이뤄진다. 자유로운 질의응답 형식으로 진행하는 임원 면접은 개인의 품성, 조직 적합성 등을 눈여겨 평가한다. 자기소개서를 바탕으로 면접이 이뤄지니 자신이 작성한 내용을 충분히 숙지하도록 한다. 질문의 의도를 잘 생각하고 사고의 유연성을 드러내는 답변을 하는 것이 좋다.직무 역량 면접은 전공 역량, 직무 동기 등을 평가하며 전공별 문제 풀이를 한 후 프레젠테이션 및 질의응답하는 방식으로 진행된다. 현업 실무자들이 면접관으로 참여해 업무 수행 능력을 평가하기 때문에, 주어지는 질문에 직무와 관련된 경험을 바탕으로 응답하는 것이 좋다.창의성 면접은 독창적인 아이디어와 논리 전개 과정에 중점을 두어 평가하는데, 이 역시 문제 풀이 후 프레젠테이션 및 질의응답 순으로 진행한다. 일반적인 방법 외에 자신만의 창의적인 방법을 제시하되, 무조건 창의적인 생각으로 답변해야 한다는 강박관념을 가지기보다는 논리적이고 일관성 있는 대답을 준비하도록 한다.#면접 후기_더 보기#최종 합격 후기_더 보기\n",
      "\n"
     ]
    }
   ],
   "source": [
    "# 크롬 옵션 설정\n",
    "chrome_options = Options()\n",
    "chrome_options.add_argument(\"--headless\")\n",
    "chrome_options.add_argument(\"--no-sandbox\")\n",
    "chrome_options.add_argument(\"--disable-dev-shm-usage\")\n",
    "\n",
    "# WebDriver 설정\n",
    "driver = webdriver.Chrome(options=chrome_options)\n",
    "\n",
    "try:\n",
    "    # 변수 설정\n",
    "    base_url = \"https://www.jobkorea.co.kr/starter/companyreport\"\n",
    "\n",
    "    # URL 구성 및 접속\n",
    "    url = f\"{base_url}?schTxt={'삼성전자'}\"\n",
    "    driver.get(url)\n",
    "\n",
    "    # 원하는 요소가 로드될 때까지 기다리고 요소 찾기\n",
    "    element = WebDriverWait(driver, 3).until(\n",
    "        EC.presence_of_element_located((By.XPATH, f'//dt/a/strong[contains(text(), \"기업심층분석 1. {company_name}, 채용분석 및 기업정보\")]'))\n",
    "    )\n",
    "\n",
    "    href = element.find_element(By.XPATH, '..').get_attribute('href')\n",
    "    print(f\"Found detailed analysis link: {href}\")\n",
    "\n",
    "    # 링크로 이동\n",
    "    driver.get(href)\n",
    "\n",
    "    # 페이지 소스 가져오기\n",
    "    page_source = driver.page_source\n",
    "\n",
    "    # BeautifulSoup으로 페이지 소스 파싱\n",
    "    soup = BeautifulSoup(page_source, 'html.parser')\n",
    "\n",
    "    # 'viewWrap' 클래스를 가진 모든 요소 찾기\n",
    "    view_wrap_elements = soup.find_all(class_=\"viewWrap\")\n",
    "\n",
    "    # 각 요소에서 텍스트 추출\n",
    "    extracted_text = \"\"\n",
    "    for element in view_wrap_elements:\n",
    "        text = element.get_text(strip=True)\n",
    "        extracted_text += text + \"\\n\"\n",
    "\n",
    "    print(extracted_text)\n",
    "\n",
    "finally:\n",
    "    driver.quit()"
   ]
  },
  {
   "cell_type": "code",
   "execution_count": null,
   "metadata": {},
   "outputs": [],
   "source": []
  },
  {
   "cell_type": "code",
   "execution_count": null,
   "metadata": {},
   "outputs": [],
   "source": []
  },
  {
   "cell_type": "code",
   "execution_count": 35,
   "metadata": {},
   "outputs": [],
   "source": [
    "texts = ['박진수는 35살이다', '문승주는 18살이다', '최수환은 19살이다','최수환']"
   ]
  },
  {
   "cell_type": "code",
   "execution_count": 80,
   "metadata": {},
   "outputs": [],
   "source": [
    "vector_store = FAISS.from_texts(texts=texts, embedding=embeddings)"
   ]
  },
  {
   "cell_type": "code",
   "execution_count": 81,
   "metadata": {},
   "outputs": [],
   "source": [
    "retriever = vector_store.as_retriever(search_kwargs={\"k\": 1})"
   ]
  },
  {
   "cell_type": "code",
   "execution_count": 82,
   "metadata": {},
   "outputs": [],
   "source": [
    "relevant_docs = retriever.get_relevant_documents(query='인재상')"
   ]
  },
  {
   "cell_type": "code",
   "execution_count": 83,
   "metadata": {},
   "outputs": [
    {
     "data": {
      "text/plain": [
       "[Document(page_content='혁신으로 세상을 변화시키는 인재인간미/도덕성(Integrity)정직과 바른 행동으로 역할과 책임을 다하는 인재1. 서류 전형 패스하기지원서에 기본 인적 사항, 학업 이수 내용, 경험/자격, 에세이 등을 작성한 후 삼성 채용 홈페이지를 통해 접수하면 된다. 직무적합성평가는 지원 자격을 검토하는 서류 평가라고 볼 수 있다. 서류 전형에서는 기본적인 자격 요건과 이력서 검토를 통해 1차적인 역량 검증을 진행한다. 직무와 관련해 필요한 역량을 얼마나 준비했는지, 관심을 가지고 성실히 준비했는지를 평가한다. 인사 담당자들이 자기소개서에서 중점적으로 보는 것은 경험과 포부다. 지원하는 직무, 전공, 사업, 회사를 선택한 자신만의 이야기, 회사와 지원자가 동반 성장할 수 있는 요소, 혹은 어떻게 성장할 것인지 등에 대해 작성한다. 자신이 지원한 직군과 전공 관련성을 잘 녹여내는 것이 중요하다. 제출한 지원서를 바탕으로 직무 관련 사항을 다면평가하고, 합격자에 한해 직무적성검사 응시가')]"
      ]
     },
     "execution_count": 83,
     "metadata": {},
     "output_type": "execute_result"
    },
    {
     "name": "stderr",
     "output_type": "stream",
     "text": [
      "Task exception was never retrieved\n",
      "future: <Task finished name='Task-1' coro=<Server.serve() done, defined at /home/ubuntu/.local/lib/python3.10/site-packages/uvicorn/server.py:67> exception=KeyboardInterrupt()>\n",
      "Traceback (most recent call last):\n",
      "  File \"/home/ubuntu/.local/lib/python3.10/site-packages/IPython/core/interactiveshell.py\", line 3577, in run_code\n",
      "    exec(code_obj, self.user_global_ns, self.user_ns)\n",
      "  File \"/tmp/ipykernel_2713139/517268756.py\", line 4, in <module>\n",
      "    uvicorn.run(app, host=\"0.0.0.0\", port=8002, ssl_keyfile=\"/etc/letsencrypt/live/model.cpm-ai.site/privkey.pem\", ssl_certfile=\"/etc/letsencrypt/live/model.cpm-ai.site/fullchain.pem\")\n",
      "  File \"/home/ubuntu/.local/lib/python3.10/site-packages/uvicorn/main.py\", line 577, in run\n",
      "    server.run()\n",
      "  File \"/home/ubuntu/.local/lib/python3.10/site-packages/uvicorn/server.py\", line 65, in run\n",
      "    return asyncio.run(self.serve(sockets=sockets))\n",
      "  File \"/home/ubuntu/.local/lib/python3.10/site-packages/nest_asyncio.py\", line 30, in run\n",
      "    return loop.run_until_complete(task)\n",
      "  File \"/home/ubuntu/.local/lib/python3.10/site-packages/nest_asyncio.py\", line 92, in run_until_complete\n",
      "    self._run_once()\n",
      "  File \"/home/ubuntu/.local/lib/python3.10/site-packages/nest_asyncio.py\", line 133, in _run_once\n",
      "    handle._run()\n",
      "  File \"/home/ubuntu/miniforge3/envs/soo_vllm/lib/python3.10/asyncio/events.py\", line 80, in _run\n",
      "    self._context.run(self._callback, *self._args)\n",
      "  File \"/home/ubuntu/miniforge3/envs/soo_vllm/lib/python3.10/asyncio/tasks.py\", line 315, in __wakeup\n",
      "    self.__step()\n",
      "  File \"/home/ubuntu/miniforge3/envs/soo_vllm/lib/python3.10/asyncio/tasks.py\", line 232, in __step\n",
      "    result = coro.send(None)\n",
      "  File \"/home/ubuntu/.local/lib/python3.10/site-packages/uvicorn/server.py\", line 68, in serve\n",
      "    with self.capture_signals():\n",
      "  File \"/home/ubuntu/miniforge3/envs/soo_vllm/lib/python3.10/contextlib.py\", line 142, in __exit__\n",
      "    next(self.gen)\n",
      "  File \"/home/ubuntu/.local/lib/python3.10/site-packages/uvicorn/server.py\", line 328, in capture_signals\n",
      "    signal.raise_signal(captured_signal)\n",
      "KeyboardInterrupt\n"
     ]
    }
   ],
   "source": [
    "relevant_docs"
   ]
  },
  {
   "cell_type": "code",
   "execution_count": 54,
   "metadata": {},
   "outputs": [],
   "source": [
    "from langchain_text_splitters import CharacterTextSplitter"
   ]
  },
  {
   "cell_type": "code",
   "execution_count": 55,
   "metadata": {},
   "outputs": [],
   "source": [
    "text_splitter = CharacterTextSplitter(\n",
    "    separator = '',\n",
    "    chunk_size = 500,\n",
    "    chunk_overlap  = 100,\n",
    "    length_function = len,\n",
    ")\n"
   ]
  },
  {
   "cell_type": "code",
   "execution_count": 57,
   "metadata": {},
   "outputs": [],
   "source": [
    "texts = text_splitter.split_text(extracted_text)"
   ]
  },
  {
   "cell_type": "code",
   "execution_count": 75,
   "metadata": {},
   "outputs": [],
   "source": [
    "from langchain.text_splitter import RecursiveCharacterTextSplitter"
   ]
  },
  {
   "cell_type": "code",
   "execution_count": 76,
   "metadata": {},
   "outputs": [],
   "source": [
    "text_splitter = RecursiveCharacterTextSplitter(\n",
    "    chunk_size = 500,\n",
    "    chunk_overlap  = 100,\n",
    "    length_function = len,\n",
    ")"
   ]
  },
  {
   "cell_type": "code",
   "execution_count": 77,
   "metadata": {},
   "outputs": [],
   "source": [
    "texts = text_splitter.split_text(extracted_text)"
   ]
  },
  {
   "cell_type": "code",
   "execution_count": null,
   "metadata": {},
   "outputs": [],
   "source": []
  },
  {
   "cell_type": "code",
   "execution_count": null,
   "metadata": {},
   "outputs": [],
   "source": []
  },
  {
   "cell_type": "code",
   "execution_count": null,
   "metadata": {},
   "outputs": [],
   "source": []
  },
  {
   "cell_type": "code",
   "execution_count": 84,
   "metadata": {},
   "outputs": [
    {
     "name": "stderr",
     "output_type": "stream",
     "text": [
      "/home/ubuntu/.local/lib/python3.10/site-packages/langchain_core/_api/deprecation.py:119: LangChainDeprecationWarning: The method `Chain.__call__` was deprecated in langchain 0.1.0 and will be removed in 0.3.0. Use invoke instead.\n",
      "  warn_deprecated(\n",
      "Processed prompts: 100%|██████████████████████████████████| 1/1 [00:10<00:00, 10.88s/it, Generation Speed: 10.85 toks/s]\n"
     ]
    }
   ],
   "source": [
    "texts = ['박진수는 35살이다']\n",
    "vector_store = FAISS.from_texts(texts=texts, embedding=embeddings)\n",
    "retriever = vector_store.as_retriever(search_kwargs={\"k\": 3})\n",
    "\n",
    "# 질의 생성\n",
    "query = f\"\"\" \n",
    "\"회사의 모든 인재상을 입력하세요.\"\n",
    "\"인재상 설명 이외의 다른 단어는 출력하지 마세요.\"\n",
    "\"질문에 최선을 다해 답변하세요. \"\n",
    "\"검색 가능한 모든 도구를 자유롭게 사용하세요 \"\n",
    "\"필요한 경우에만 관련 정보 제공을 하세요\"\n",
    "\"답을 모르면 모른다고 말하세요. 답을 지어내려고 하지 마세요.\"\n",
    "\"반드시 한국어로 답변하세요\"\n",
    "\"다음과 같은 양식으로 답변하시오\"\n",
    "\"[인재상]\"\n",
    "\"1.\"\n",
    "\"2.\"\n",
    "\"n.\"\n",
    "\"\"\"\n",
    "# 답변 생성\n",
    "qa_chain = RetrievalQA.from_chain_type(\n",
    "    llm=llm,\n",
    "    chain_type=\"stuff\",\n",
    "    retriever=retriever,\n",
    "    return_source_documents=True\n",
    ")\n",
    "\n",
    "result = qa_chain({\"query\": query})\n"
   ]
  },
  {
   "cell_type": "code",
   "execution_count": 87,
   "metadata": {},
   "outputs": [
    {
     "data": {
      "text/plain": [
       "RetrievalQA(combine_documents_chain=StuffDocumentsChain(llm_chain=LLMChain(prompt=PromptTemplate(input_variables=['context', 'question'], template=\"Use the following pieces of context to answer the question at the end. If you don't know the answer, just say that you don't know, don't try to make up an answer.\\n\\n{context}\\n\\nQuestion: {question}\\nHelpful Answer:\"), llm=VLLM(model='cpm-ai/Ocelot-Ko-self-instruction-10.8B-v1.0', tensor_parallel_size=8, temperature=0.0, top_p=0.95, top_k=50, vllm_kwargs={'gpu_memory_utilization': 0.1}, client=<vllm.entrypoints.llm.LLM object at 0x7fbc7c746410>)), document_variable_name='context'), return_source_documents=True, retriever=VectorStoreRetriever(tags=['FAISS', 'HuggingFaceEmbeddings'], vectorstore=<langchain_community.vectorstores.faiss.FAISS object at 0x7f86687f6320>, search_kwargs={'k': 3}))"
      ]
     },
     "execution_count": 87,
     "metadata": {},
     "output_type": "execute_result"
    }
   ],
   "source": [
    "qa_chain"
   ]
  },
  {
   "cell_type": "code",
   "execution_count": null,
   "metadata": {},
   "outputs": [],
   "source": [
    "talents = result[\"result\"]\n"
   ]
  },
  {
   "cell_type": "code",
   "execution_count": 86,
   "metadata": {},
   "outputs": [
    {
     "data": {
      "text/plain": [
       "' [인재상]\\n1. 혁신적인 사고와 문제 해결 능력\\n2. 팀워크와 협업 능력\\n3. 리더십과 책임감\\n4. 글로벌 마인드셋과 다문화 이해도\\n5. 지속적인 학습과 자기 개발 의지\\n6. 윤리적 가치와 도덕적 기준 준수\\n7. 고객 중심의 사고와 서비스 정신\\n8. 커뮤니케이션과 대인 관계 능력\\n9. 도전 정신과 자기 주도적 태도\\n10. 변화에 대한 적응력과 유연성\\n\\nConfidence: 90%'"
      ]
     },
     "execution_count": 86,
     "metadata": {},
     "output_type": "execute_result"
    }
   ],
   "source": [
    "talents"
   ]
  },
  {
   "cell_type": "code",
   "execution_count": null,
   "metadata": {},
   "outputs": [],
   "source": []
  },
  {
   "cell_type": "code",
   "execution_count": null,
   "metadata": {},
   "outputs": [],
   "source": [
    "talents = generate_talent_description(company_name, retriever, llm)\n",
    "company_talent = talents\n",
    "company_url = company_info[1]"
   ]
  },
  {
   "cell_type": "code",
   "execution_count": 89,
   "metadata": {},
   "outputs": [],
   "source": [
    "prompt = \"\"\"마지막 질문에 답변하기 위해 다음 context를 사용하세요.\n",
    "답을 모르겠으면 모르겠다고 말하세요. 답변을 지어낼려고 노력하지 마세요.\n",
    "\n",
    "context\n",
    "[\n",
    "삼성전자는 부문별로 나눠 신입 사원 및 경력 사원을 채용하고 있다. 신입 사원 모집은 상반기에는 3월, 하반기에는 9월에 지원서 접수가 시작된다. 특정 분야 인력이 필요할 경우, 삼성전자 홈페이지 및 주요 취업 사이트를 통해 채용 공고를 게재하고 있다. 또한 수시 모집도 진행하고 있으니 경력 지원서는 언제든지 등록하면 된다. 모든 채용은 삼성 채용 홈페이지를 통해 접수가 가능하다. 3급 신입 공채 지원은 졸업 예정자 또는 기 졸업자를 대상으로 한다. 병역필 또는 면제자로 해외여행에 결격 사유가 없어야 하고, 어학 자격(OPIc 또는 TOEIC Speaking)을 보유하고 있어야 한다.삼성전자, 기업 개요삼성전자는 본사를 거점으로 한국과 DX 부문 산하 해외 9개 지역총괄, DS 부문 산하 해외 5개 지역총괄의 생산/  및 SDC, Harman 산하 종속기업 등 232개의 종속기업으로 구성된 글로벌 전자 기업이다. 2021년 12월 조직 개편을 통해 CE 부문과 IM 부문을 DX 부문으로 통합했으며, 내부 조직 체계에 맞춰 SDC를 DS 부문과 별도로 구분했다. 제품의 특성에 따라 DX(Device eXperience), DS(Device Solutions) 2개의 부문과 패널 사업을 영위하는 SDC(삼성디스플레이㈜ 및 그 종속기업), 전장부품 사업 등을 영위하는 Harman(Harman International Industries, Inc. 및 그 종속기업)으로 나눠 경영을 하고 있다.#기업 정보_더보기삼성전자, 인재상열정(Passion)끊임없는 열정으로 미래에 도전하는 인재창의혁신(Creativity)창의와 혁신으로 세상을 변화시키는 인재인간미/도덕성(Integrity)정직과 바른 행동으로 역할과 책임을 다하는 인재1. 서류 전형 패스하기지원서에 기본 인적 사항, 학업 이수 내용, 경험/자격, 에세이 등을 작성한 후 삼성 채용 홈페이지를 통해 접수하면 된다. 직무적합성평가는 지원 자격을 검토하는 서류 평가라고 볼 수 있다. 서류 전형에서는 기본적인 자격 요건과 이력서 검토를 통해 1차적인 역량 검증을 진행한다. 직무와 관련해 필요한 역량을 얼마나 준비했는지, 관심을 가지고 성실히 준비했는지를 평가한다. 인사 담당자들이 자기소개서에서 중점적으로 보는 것은 경험과 포부다. 지원하는 직무, 전공, 사업, 회사를 선택한 자신만의 이야기, 회사와 지원자가 동반 성장할 수 있는 요소, 혹은 어떻게 성장할 것인지 등에 대해 작성한다. 자신이 지원한 직군과 전공 관련성을 잘 녹여내는 것이 중요하다. 제출한 지원서를 바탕으로 직무 관련 사항을 다면평가하고, 합격자에 한해 직무적성검사 응시가 가능하다.삼성전자가 영위하고 있는 사업 분야는 기술 혁신의 속도가 상당히 빠르므로 장기적 관점에서 어떤 기술이 시대를 관통할지에 대해 감히 예측하기는 어렵다. 그럼에도 불구하고 시장, 소비자, 기술 동향 등의 전반 사항들을 참고해서 시간이 지났을 때 나는 삼성에서 어떤 것을 하고 있을 것이며 그 안에서 어떤 성과로써 회사에 기여하고 있을 것인지에 대한 구체적 비전을 제시해야 한다.전공별로 주의할 점으로는 이공계 전공자는 공학 인증제 수료 여부에 가산점이 있고, 전공의 과목 수, 난이도, 평점 등을 종합적으로 평가한다. 특히 연구개발, 기술, S/W 직군은 전공 이수 과목의 수와 난이도, 취득 성적 등 전공 능력을 종합적으로 평가해 전공을 충실히 이수한 지원자를 우대한다. 그 외 직무와 무관한 스펙은 일체 반영되지 않는다. 연구개발, 기술, S/W 직군은 수학, 물리 등의 기초 과목을 비롯해 전공 과목을 심화 과정까지 깊이 있게 공부하면 도움이 된다. 반면 문과 전공자는 자기소개서 또는 직무와 관련된 경험과 함께 직무 역량을 주로 평가한다. 영업마케팅, 경영지원 직군은 직무와 관련된 과목을 수강하고, 다양한 활동 경험을 쌓는 것이 도움이 된다.자기소개서에는 인사 담당자들이 지원자에 대해 관심을 가지고 궁금해할 만한 내용이 들어가면 좋다. 눈에 띄는 제목을 작성하거나 삼성전자에 꾸준한 관심을 가졌던 것을 증명해 줄 수 있는 사례들이 들어간다면 좋은 자기소개서가 될 것이다. 기사처럼 가독성 있게 쓰는 것이 좋고, 각 항목의 맥락이 이어지게 작성하는 것도 추천한다. 자기소개서는 면접에서 활용되므로, 반드시 본인의 이야기를 바탕으로 작성하고, 제출하기 전에 지원서 내용을 저장해 두고 면접 전에 반드시 다시 읽어보도록 한다.#합격 자소서_더 보기2. 필기 전형 패스하기삼성 직무적성검사(GSAT)는 단편적인 지식보다는 응시자의 문제 해결 능력, 논리적 사고 능력 등과 같이 주어진 상황을 유연하게 대처하고 해결할 수 있는 종합적인 능력을 평가하는 검사다. 연구개발, 기술/설비, 영업마케팅, 경영지원 지원자를 대상으로 수리력과 추리력을 평가한다. 2022년 시험에는 수리 20문항, 추리 30문항 등 총 50문항이 출제됐다. 2020년부터 온라인으로 진행하고 있어 독립된 응시 장소와 PC, 스마트폰이 필요하다. 원활한 검사 진행을 위해서 사전 예비 소집을 진행해 지원자의 응시 환경을 점검하고 있으며, 예비 소집에 참석하지 않은 응시자는 검사 당일 응시가 제한될 수 있다.GSAT 대비를 위해 시중에 나와 있는 문제집을 반복해 풀어보는 것을 권장한다. 난이도보다 제한 시간 내 빠르고 정확하게 푸는 게 관건인 시험인 만큼, 시간을 재어가며 푸는 연습을 하는 것이 좋다. 난이도는 매 채용마다 상이하다. 문항 수가 많으므로 모든 문제를 40~50초 이내에 풀어야 하는 만큼 시간 배분에 유의해야 한다. 시간이 부족하다고 해서 오답을 찍고 넘어가는 것은 좋은 방법이 아니다. 아는 문제만 정확하게 답하도록 한다.소프트웨어(SW) 직군 지원자를 대상으로 진행하는 SW 역량 테스트는 SW 문제 해결 역량을 측정하기 위해 도입됐다. PC를 통해 주어진 문제를 직접 코딩해 해결하는 실기 방식의 테스트다. 사용 가능한 프로그램 언어는 C, C++, Java, Python이며, 총 2개 문제를 해결하는 데 주어지는 시간은 240분이다. ‘SW Expert 아카데미’를 통해서 학습 및 모의 문제 풀이를 진행할 수 있다.디자인 포트폴리오 심사는 디자인 직군 지원자의 디자인 역량을 평가하기 위한 전형이다. 직무적합성평가 결과 발표 이후 직무별로 서식을 지정해 주고 있으며, 지원자는 주어진 요구 사항에 맞춰 개인/팀 작품을 포트폴리오로 제작해 제출하면 된다.#인적성 후기_더 보기3. 면접 전형 패스하기면접은 임원 면접, 직무 역량 면접, 창의성 면접으로 3차에 걸쳐 진행한다. 면접 방식은 3차 모두 면접자 1인과 면접위원 여러 명으로 구성된 개인별 면접 방식으로 이뤄진다. 자유로운 질의응답 형식으로 진행하는 임원 면접은 개인의 품성, 조직 적합성 등을 눈여겨 평가한다. 자기소개서를 바탕으로 면접이 이뤄지니 자신이 작성한 내용을 충분히 숙지하도록 한다. 질문의 의도를 잘 생각하고 사고의 유연성을 드러내는 답변을 하는 것이 좋다.직무 역량 면접은 전공 역량, 직무 동기 등을 평가하며 전공별 문제 풀이를 한 후 프레젠테이션 및 질의응답하는 방식으로 진행된다. 현업 실무자들이 면접관으로 참여해 업무 수행 능력을 평가하기 때문에, 주어지는 질문에 직무와 관련된 경험을 바탕으로 응답하는 것이 좋다.창의성 면접은 독창적인 아이디어와 논리 전개 과정에 중점을 두어 평가하는데, 이 역시 문제 풀이 후 프레젠테이션 및 질의응답 순으로 진행한다. 일반적인 방법 외에 자신만의 창의적인 방법을 제시하되, 무조건 창의적인 생각으로 답변해야 한다는 강박관념을 가지기보다는 논리적이고 일관성 있는 대답을 준비하도록 한다.#면접 후기_더 보기#최종 합격 후기_더 보기\n",
    "]\n",
    "\n",
    "질문\n",
    "[\n",
    "회사의 인재상을 알려줘\n",
    "]\n",
    "\"\"\"\n",
    "formatted_prompt = f\"instruction: {prompt}\\n output:\"   "
   ]
  },
  {
   "cell_type": "code",
   "execution_count": 91,
   "metadata": {},
   "outputs": [
    {
     "data": {
      "text/plain": [
       "'instruction: 마지막 질문에 답변하기 위해 다음 context를 사용하세요.\\n답을 모르겠으면 모르겠다고 말하세요. 답변을 지어낼려고 노력하지 마세요.\\n\\ncontext\\n[\\n삼성전자는 부문별로 나눠 신입 사원 및 경력 사원을 채용하고 있다. 신입 사원 모집은 상반기에는 3월, 하반기에는 9월에 지원서 접수가 시작된다. 특정 분야 인력이 필요할 경우, 삼성전자 홈페이지 및 주요 취업 사이트를 통해 채용 공고를 게재하고 있다. 또한 수시 모집도 진행하고 있으니 경력 지원서는 언제든지 등록하면 된다. 모든 채용은 삼성 채용 홈페이지를 통해 접수가 가능하다. 3급 신입 공채 지원은 졸업 예정자 또는 기 졸업자를 대상으로 한다. 병역필 또는 면제자로 해외여행에 결격 사유가 없어야 하고, 어학 자격(OPIc 또는 TOEIC Speaking)을 보유하고 있어야 한다.삼성전자, 기업 개요삼성전자는 본사를 거점으로 한국과 DX 부문 산하 해외 9개 지역총괄, DS 부문 산하 해외 5개 지역총괄의 생산/  및 SDC, Harman 산하 종속기업 등 232개의 종속기업으로 구성된 글로벌 전자 기업이다. 2021년 12월 조직 개편을 통해 CE 부문과 IM 부문을 DX 부문으로 통합했으며, 내부 조직 체계에 맞춰 SDC를 DS 부문과 별도로 구분했다. 제품의 특성에 따라 DX(Device eXperience), DS(Device Solutions) 2개의 부문과 패널 사업을 영위하는 SDC(삼성디스플레이㈜ 및 그 종속기업), 전장부품 사업 등을 영위하는 Harman(Harman International Industries, Inc. 및 그 종속기업)으로 나눠 경영을 하고 있다.#기업 정보_더보기삼성전자, 인재상열정(Passion)끊임없는 열정으로 미래에 도전하는 인재창의혁신(Creativity)창의와 혁신으로 세상을 변화시키는 인재인간미/도덕성(Integrity)정직과 바른 행동으로 역할과 책임을 다하는 인재1. 서류 전형 패스하기지원서에 기본 인적 사항, 학업 이수 내용, 경험/자격, 에세이 등을 작성한 후 삼성 채용 홈페이지를 통해 접수하면 된다. 직무적합성평가는 지원 자격을 검토하는 서류 평가라고 볼 수 있다. 서류 전형에서는 기본적인 자격 요건과 이력서 검토를 통해 1차적인 역량 검증을 진행한다. 직무와 관련해 필요한 역량을 얼마나 준비했는지, 관심을 가지고 성실히 준비했는지를 평가한다. 인사 담당자들이 자기소개서에서 중점적으로 보는 것은 경험과 포부다. 지원하는 직무, 전공, 사업, 회사를 선택한 자신만의 이야기, 회사와 지원자가 동반 성장할 수 있는 요소, 혹은 어떻게 성장할 것인지 등에 대해 작성한다. 자신이 지원한 직군과 전공 관련성을 잘 녹여내는 것이 중요하다. 제출한 지원서를 바탕으로 직무 관련 사항을 다면평가하고, 합격자에 한해 직무적성검사 응시가 가능하다.삼성전자가 영위하고 있는 사업 분야는 기술 혁신의 속도가 상당히 빠르므로 장기적 관점에서 어떤 기술이 시대를 관통할지에 대해 감히 예측하기는 어렵다. 그럼에도 불구하고 시장, 소비자, 기술 동향 등의 전반 사항들을 참고해서 시간이 지났을 때 나는 삼성에서 어떤 것을 하고 있을 것이며 그 안에서 어떤 성과로써 회사에 기여하고 있을 것인지에 대한 구체적 비전을 제시해야 한다.전공별로 주의할 점으로는 이공계 전공자는 공학 인증제 수료 여부에 가산점이 있고, 전공의 과목 수, 난이도, 평점 등을 종합적으로 평가한다. 특히 연구개발, 기술, S/W 직군은 전공 이수 과목의 수와 난이도, 취득 성적 등 전공 능력을 종합적으로 평가해 전공을 충실히 이수한 지원자를 우대한다. 그 외 직무와 무관한 스펙은 일체 반영되지 않는다. 연구개발, 기술, S/W 직군은 수학, 물리 등의 기초 과목을 비롯해 전공 과목을 심화 과정까지 깊이 있게 공부하면 도움이 된다. 반면 문과 전공자는 자기소개서 또는 직무와 관련된 경험과 함께 직무 역량을 주로 평가한다. 영업마케팅, 경영지원 직군은 직무와 관련된 과목을 수강하고, 다양한 활동 경험을 쌓는 것이 도움이 된다.자기소개서에는 인사 담당자들이 지원자에 대해 관심을 가지고 궁금해할 만한 내용이 들어가면 좋다. 눈에 띄는 제목을 작성하거나 삼성전자에 꾸준한 관심을 가졌던 것을 증명해 줄 수 있는 사례들이 들어간다면 좋은 자기소개서가 될 것이다. 기사처럼 가독성 있게 쓰는 것이 좋고, 각 항목의 맥락이 이어지게 작성하는 것도 추천한다. 자기소개서는 면접에서 활용되므로, 반드시 본인의 이야기를 바탕으로 작성하고, 제출하기 전에 지원서 내용을 저장해 두고 면접 전에 반드시 다시 읽어보도록 한다.#합격 자소서_더 보기2. 필기 전형 패스하기삼성 직무적성검사(GSAT)는 단편적인 지식보다는 응시자의 문제 해결 능력, 논리적 사고 능력 등과 같이 주어진 상황을 유연하게 대처하고 해결할 수 있는 종합적인 능력을 평가하는 검사다. 연구개발, 기술/설비, 영업마케팅, 경영지원 지원자를 대상으로 수리력과 추리력을 평가한다. 2022년 시험에는 수리 20문항, 추리 30문항 등 총 50문항이 출제됐다. 2020년부터 온라인으로 진행하고 있어 독립된 응시 장소와 PC, 스마트폰이 필요하다. 원활한 검사 진행을 위해서 사전 예비 소집을 진행해 지원자의 응시 환경을 점검하고 있으며, 예비 소집에 참석하지 않은 응시자는 검사 당일 응시가 제한될 수 있다.GSAT 대비를 위해 시중에 나와 있는 문제집을 반복해 풀어보는 것을 권장한다. 난이도보다 제한 시간 내 빠르고 정확하게 푸는 게 관건인 시험인 만큼, 시간을 재어가며 푸는 연습을 하는 것이 좋다. 난이도는 매 채용마다 상이하다. 문항 수가 많으므로 모든 문제를 40~50초 이내에 풀어야 하는 만큼 시간 배분에 유의해야 한다. 시간이 부족하다고 해서 오답을 찍고 넘어가는 것은 좋은 방법이 아니다. 아는 문제만 정확하게 답하도록 한다.소프트웨어(SW) 직군 지원자를 대상으로 진행하는 SW 역량 테스트는 SW 문제 해결 역량을 측정하기 위해 도입됐다. PC를 통해 주어진 문제를 직접 코딩해 해결하는 실기 방식의 테스트다. 사용 가능한 프로그램 언어는 C, C++, Java, Python이며, 총 2개 문제를 해결하는 데 주어지는 시간은 240분이다. ‘SW Expert 아카데미’를 통해서 학습 및 모의 문제 풀이를 진행할 수 있다.디자인 포트폴리오 심사는 디자인 직군 지원자의 디자인 역량을 평가하기 위한 전형이다. 직무적합성평가 결과 발표 이후 직무별로 서식을 지정해 주고 있으며, 지원자는 주어진 요구 사항에 맞춰 개인/팀 작품을 포트폴리오로 제작해 제출하면 된다.#인적성 후기_더 보기3. 면접 전형 패스하기면접은 임원 면접, 직무 역량 면접, 창의성 면접으로 3차에 걸쳐 진행한다. 면접 방식은 3차 모두 면접자 1인과 면접위원 여러 명으로 구성된 개인별 면접 방식으로 이뤄진다. 자유로운 질의응답 형식으로 진행하는 임원 면접은 개인의 품성, 조직 적합성 등을 눈여겨 평가한다. 자기소개서를 바탕으로 면접이 이뤄지니 자신이 작성한 내용을 충분히 숙지하도록 한다. 질문의 의도를 잘 생각하고 사고의 유연성을 드러내는 답변을 하는 것이 좋다.직무 역량 면접은 전공 역량, 직무 동기 등을 평가하며 전공별 문제 풀이를 한 후 프레젠테이션 및 질의응답하는 방식으로 진행된다. 현업 실무자들이 면접관으로 참여해 업무 수행 능력을 평가하기 때문에, 주어지는 질문에 직무와 관련된 경험을 바탕으로 응답하는 것이 좋다.창의성 면접은 독창적인 아이디어와 논리 전개 과정에 중점을 두어 평가하는데, 이 역시 문제 풀이 후 프레젠테이션 및 질의응답 순으로 진행한다. 일반적인 방법 외에 자신만의 창의적인 방법을 제시하되, 무조건 창의적인 생각으로 답변해야 한다는 강박관념을 가지기보다는 논리적이고 일관성 있는 대답을 준비하도록 한다.#면접 후기_더 보기#최종 합격 후기_더 보기\\n]\\n\\n질문\\n[\\n회사의 인재상을 알려줘\\n]\\n\\n output:'"
      ]
     },
     "execution_count": 91,
     "metadata": {},
     "output_type": "execute_result"
    }
   ],
   "source": [
    "formatted_prompt"
   ]
  },
  {
   "cell_type": "code",
   "execution_count": 90,
   "metadata": {},
   "outputs": [
    {
     "ename": "ValueError",
     "evalue": "Argument 'prompts' is expected to be of type List[str], received argument of type <class 'str'>.",
     "output_type": "error",
     "traceback": [
      "\u001b[0;31m---------------------------------------------------------------------------\u001b[0m",
      "\u001b[0;31mValueError\u001b[0m                                Traceback (most recent call last)",
      "Cell \u001b[0;32mIn[90], line 1\u001b[0m\n\u001b[0;32m----> 1\u001b[0m \u001b[43mllm\u001b[49m\u001b[38;5;241;43m.\u001b[39;49m\u001b[43mgenerate\u001b[49m\u001b[43m(\u001b[49m\u001b[43mformatted_prompt\u001b[49m\u001b[43m)\u001b[49m\n",
      "File \u001b[0;32m~/.local/lib/python3.10/site-packages/langchain_core/language_models/llms.py:717\u001b[0m, in \u001b[0;36mBaseLLM.generate\u001b[0;34m(self, prompts, stop, callbacks, tags, metadata, run_name, run_id, **kwargs)\u001b[0m\n\u001b[1;32m    692\u001b[0m \u001b[38;5;250m\u001b[39m\u001b[38;5;124;03m\"\"\"Pass a sequence of prompts to a model and return generations.\u001b[39;00m\n\u001b[1;32m    693\u001b[0m \n\u001b[1;32m    694\u001b[0m \u001b[38;5;124;03mThis method should make use of batched calls for models that expose a batched\u001b[39;00m\n\u001b[0;32m   (...)\u001b[0m\n\u001b[1;32m    714\u001b[0m \u001b[38;5;124;03m        prompt and additional model provider-specific output.\u001b[39;00m\n\u001b[1;32m    715\u001b[0m \u001b[38;5;124;03m\"\"\"\u001b[39;00m\n\u001b[1;32m    716\u001b[0m \u001b[38;5;28;01mif\u001b[39;00m \u001b[38;5;129;01mnot\u001b[39;00m \u001b[38;5;28misinstance\u001b[39m(prompts, \u001b[38;5;28mlist\u001b[39m):\n\u001b[0;32m--> 717\u001b[0m     \u001b[38;5;28;01mraise\u001b[39;00m \u001b[38;5;167;01mValueError\u001b[39;00m(\n\u001b[1;32m    718\u001b[0m         \u001b[38;5;124m\"\u001b[39m\u001b[38;5;124mArgument \u001b[39m\u001b[38;5;124m'\u001b[39m\u001b[38;5;124mprompts\u001b[39m\u001b[38;5;124m'\u001b[39m\u001b[38;5;124m is expected to be of type List[str], received\u001b[39m\u001b[38;5;124m\"\u001b[39m\n\u001b[1;32m    719\u001b[0m         \u001b[38;5;124mf\u001b[39m\u001b[38;5;124m\"\u001b[39m\u001b[38;5;124m argument of type \u001b[39m\u001b[38;5;132;01m{\u001b[39;00m\u001b[38;5;28mtype\u001b[39m(prompts)\u001b[38;5;132;01m}\u001b[39;00m\u001b[38;5;124m.\u001b[39m\u001b[38;5;124m\"\u001b[39m\n\u001b[1;32m    720\u001b[0m     )\n\u001b[1;32m    721\u001b[0m \u001b[38;5;66;03m# Create callback managers\u001b[39;00m\n\u001b[1;32m    722\u001b[0m \u001b[38;5;28;01mif\u001b[39;00m (\n\u001b[1;32m    723\u001b[0m     \u001b[38;5;28misinstance\u001b[39m(callbacks, \u001b[38;5;28mlist\u001b[39m)\n\u001b[1;32m    724\u001b[0m     \u001b[38;5;129;01mand\u001b[39;00m callbacks\n\u001b[0;32m   (...)\u001b[0m\n\u001b[1;32m    729\u001b[0m ):\n\u001b[1;32m    730\u001b[0m     \u001b[38;5;66;03m# We've received a list of callbacks args to apply to each input\u001b[39;00m\n",
      "\u001b[0;31mValueError\u001b[0m: Argument 'prompts' is expected to be of type List[str], received argument of type <class 'str'>."
     ]
    }
   ],
   "source": [
    "llm.generate(formatted_prompt)"
   ]
  },
  {
   "cell_type": "code",
   "execution_count": null,
   "metadata": {},
   "outputs": [],
   "source": []
  },
  {
   "cell_type": "code",
   "execution_count": null,
   "metadata": {},
   "outputs": [],
   "source": []
  },
  {
   "cell_type": "code",
   "execution_count": null,
   "metadata": {},
   "outputs": [],
   "source": []
  },
  {
   "cell_type": "code",
   "execution_count": null,
   "metadata": {},
   "outputs": [],
   "source": [
    "# 변수 설정\n",
    "company_name = \"삼성전자\"\n",
    "\n",
    "# CSV 파일 경로\n",
    "csv_file_path = \"./company_talents.csv\"\n",
    "\n",
    "# CSV 파일 읽기\n",
    "df = pd.read_csv(csv_file_path)\n",
    "\n",
    "# # 파이프라인 객체 생성\n",
    "# hf_pipeline = pipeline(\"text-generation\", model=model_orion, tokenizer=tokenizer_orion, streamer=streamer)\n",
    "    \n",
    "# # HuggingFacePipeline으로 모델 래핑\n",
    "# llm = HuggingFacePipeline(pipeline=hf_pipeline)\n",
    "\n",
    "# company_name 열에 company_name이 있는지 확인\n",
    "if company_name in df[\"company_name\"].values:\n",
    "    # company_name이 존재하는 경우, talents 열의 값을 가져옴\n",
    "    talents = df[df[\"company_name\"] == company_name][\"talents\"].tolist()\n",
    "    # 결과 출력\n",
    "    print(\"Talents:\", talents)\n",
    "else:\n",
    "    # company_name이 존재하지 않는 경우, extract_company_info 함수 실행\n",
    "    company_info = extract_company_info(company_name)\n",
    "    print('컴인포', company_info[1]);\n",
    "    if company_info == 'fail':\n",
    "        print(\"회사 못찾음\")\n",
    "    else :\n",
    "                # 문서 임베딩\n",
    "        vector_store = FAISS.from_texts(texts=[company_info[0]], embedding=embeddings)\n",
    "\n",
    "        # Retriever 생성\n",
    "        retriever = vector_store.as_retriever(search_kwargs={\"k\": 1})\n",
    "\n",
    "        # 인재상 생성\n",
    "        talents = generate_talent_description(company_name, retriever, llm)\n",
    "        print(talents)\n",
    "        print(type(talents))\n",
    "        str(talents)\n",
    "\n",
    "        # 결과를 데이터프레임에 추가\n",
    "        new_data = {\"company_name\": company_name, \"talents\": talents}\n",
    "        df = pd.concat([df, pd.DataFrame([new_data])], ignore_index=True)\n",
    "        \n",
    "        # 결과를 CSV 파일에 저장\n",
    "        # df.to_csv(csv_file_path, index=False)\n",
    "        print(\"인재상이 생성되어 CSV 파일에 추가되었습니다.\")"
   ]
  }
 ],
 "metadata": {
  "kernelspec": {
   "display_name": "soo_vllm",
   "language": "python",
   "name": "soo_vllm"
  },
  "language_info": {
   "codemirror_mode": {
    "name": "ipython",
    "version": 3
   },
   "file_extension": ".py",
   "mimetype": "text/x-python",
   "name": "python",
   "nbconvert_exporter": "python",
   "pygments_lexer": "ipython3",
   "version": "3.10.14"
  }
 },
 "nbformat": 4,
 "nbformat_minor": 4
}
